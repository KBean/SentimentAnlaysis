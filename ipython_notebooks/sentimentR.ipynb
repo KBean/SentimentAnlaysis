{
  "metadata": {
    "associatedRecipe": "compute_airlines_scored_sentimentR",
    "creator": "vdestoecklin",
    "customFields": {},
    "kernelspec": {
      "display_name": "R (env RVEST__3_)",
      "language": "R",
      "name": "r-dku-venv-rvest__3_"
    },
    "language_info": {
      "codemirror_mode": "r",
      "file_extension": ".r",
      "mimetype": "text/x-r-source",
      "name": "R",
      "pygments_lexer": "r",
      "version": "3.5.0"
    },
    "tags": [
      "recipe-editor"
    ],
    "createdOn": 1620185516153
  },
  "nbformat": 4,
  "nbformat_minor": 1,
  "cells": [
    {
      "execution_count": 40,
      "cell_type": "code",
      "metadata": {},
      "source": [
        "library(dataiku)\n",
        "#library(sentimentr)\n",
        "library(SentimentAnalysis)\n",
        "library(dplyr)\n",
        "library(tm)\n"
      ],
      "outputs": [
        {
          "name": "stderr",
          "output_type": "stream",
          "text": [
            "Loading required package: NLP\n"
          ]
        }
      ]
    },
    {
      "execution_count": 11,
      "cell_type": "code",
      "metadata": {},
      "source": [
        "\n",
        "# Recipe inputs\n",
        "df \u003c- dkuReadDataset(\"airline_tweets_unique\", samplingMethod\u003d\"head\", nbRows\u003d100000)\n",
        "\n",
        "\n",
        "#Score with sentimentR\n",
        "#df$sentimentR_polarity \u003c- sentiment(df$text)$sentiment\n",
        "\n",
        "#df \u003c- cbind(df, sentiment[,4])\n",
        "\n",
        "\n",
        "#Score with sentimentAnalyzer and take the mean\n",
        "\n"
      ],
      "outputs": [
        {
          "name": "stderr",
          "output_type": "stream",
          "text": [
            "`mutate_each()` is deprecated.\n",
            "Use `mutate_all()`, `mutate_at()` or `mutate_if()` instead.\n",
            "To map `funs` over all variables, use `mutate_all()`\n"
          ]
        }
      ]
    },
    {
      "execution_count": 3,
      "cell_type": "code",
      "metadata": {},
      "source": [
        "head(df)"
      ],
      "outputs": [
        {
          "data": {
            "text/html": [
              "\u003ctable\u003e\n",
              "\u003cthead\u003e\u003ctr\u003e\u003cth scope\u003dcol\u003etext_processed\u003c/th\u003e\u003cth scope\u003dcol\u003etext\u003c/th\u003e\u003c/tr\u003e\u003c/thead\u003e\n",
              "\u003ctbody\u003e\n",
              "\t\u003ctr\u003e\u003ctd\u003e0 19 left play americanairlines arena miami florida usa wizards 109 113 heat nba 2018 2019               \u003c/td\u003e\u003ctd\u003e0:19 left to play at AmericanAirlines Arena, Miami, Florida, USA: #Wizards 109-113 #Heat . #NBA 2018-2019\u003c/td\u003e\u003c/tr\u003e\n",
              "\t\u003ctr\u003e\u003ctd\u003e0 2 emirates                                                                                             \u003c/td\u003e\u003ctd\u003e0-2 at Emirates 😂😂                                                                     \u003c/td\u003e\u003c/tr\u003e\n",
              "\t\u003ctr\u003e\u003ctd\u003e0 25 eps expected ryanair holdings plc ryaay loews l sentiment 0 95 s t  hxg2rvdxih                      \u003c/td\u003e\u003ctd\u003e$0.25 EPS Expected for Ryanair Holdings plc $RYAAY; Loews $L Sentiment Is 0.95                           \u003c/td\u003e\u003c/tr\u003e\n",
              "\t\u003ctr\u003e\u003ctd\u003e0 25 eps expected ryanair holdings plc ryaay s t  jugrqdwopf                                             \u003c/td\u003e\u003ctd\u003e$0.25 EPS Expected for Ryanair Holdings plc $RYAAY                                                       \u003c/td\u003e\u003c/tr\u003e\n",
              "\t\u003ctr\u003e\u003ctd\u003e0 25 eps expected ryanair holdings plc ryaay s t  rkgdmy8teg                                             \u003c/td\u003e\u003ctd\u003e$0.25 EPS Expected for Ryanair Holdings plc $RYAAY -                                                     \u003c/td\u003e\u003c/tr\u003e\n",
              "\t\u003ctr\u003e\u003ctd\u003e0 34 eps expected modine manufacturing mpany mod jetblue airways jblu sentiment 0 94 s t  oebd0yhbgy     \u003c/td\u003e\u003ctd\u003e$0.34 EPS Expected for Modine Manufacturing Company $MOD; Jetblue Airways $JBLUs Sentiment Is 0.94       \u003c/td\u003e\u003c/tr\u003e\n",
              "\u003c/tbody\u003e\n",
              "\u003c/table\u003e\n"
            ],
            "text/latex": [
              "\\begin{tabular}{r|ll}\n",
              " text\\_processed \u0026 text\\\\\n",
              "\\hline\n",
              "\t 0 19 left play americanairlines arena miami florida usa wizards 109 113 heat nba 2018 2019                      \u0026 0:19 left to play at AmericanAirlines Arena, Miami, Florida, USA: \\#Wizards 109-113 \\#Heat . \\#NBA 2018-2019\\\\\n",
              "\t 0 2 emirates                                                                                              \u0026 0-2 at Emirates 😂😂                                                                     \\\\\n",
              "\t 0 25 eps expected ryanair holdings plc ryaay loews l sentiment 0 95 s t  hxg2rvdxih                             \u0026 \\$0.25 EPS Expected for Ryanair Holdings plc \\$RYAAY; Loews \\$L Sentiment Is 0.95                           \\\\\n",
              "\t 0 25 eps expected ryanair holdings plc ryaay s t  jugrqdwopf                                                  \u0026 \\$0.25 EPS Expected for Ryanair Holdings plc \\$RYAAY                                                       \\\\\n",
              "\t 0 25 eps expected ryanair holdings plc ryaay s t  rkgdmy8teg                                                  \u0026 \\$0.25 EPS Expected for Ryanair Holdings plc \\$RYAAY -                                                     \\\\\n",
              "\t 0 34 eps expected modine manufacturing mpany mod jetblue airways jblu sentiment 0 94 s t  oebd0yhbgy            \u0026 \\$0.34 EPS Expected for Modine Manufacturing Company \\$MOD; Jetblue Airways \\$JBLUs Sentiment Is 0.94       \\\\\n",
              "\\end{tabular}\n"
            ],
            "text/markdown": [
              "\n",
              "| text_processed | text |\n",
              "|---|---|\n",
              "| 0 19 left play americanairlines arena miami florida usa wizards 109 113 heat nba 2018 2019                | 0:19 left to play at AmericanAirlines Arena, Miami, Florida, USA: #Wizards 109-113 #Heat . #NBA 2018-2019 |\n",
              "| 0 2 emirates                                                                                              | 0-2 at Emirates 😂😂                                                                      |\n",
              "| 0 25 eps expected ryanair holdings plc ryaay loews l sentiment 0 95 s t  hxg2rvdxih                       | $0.25 EPS Expected for Ryanair Holdings plc $RYAAY; Loews $L Sentiment Is 0.95                            |\n",
              "| 0 25 eps expected ryanair holdings plc ryaay s t  jugrqdwopf                                              | $0.25 EPS Expected for Ryanair Holdings plc $RYAAY                                                        |\n",
              "| 0 25 eps expected ryanair holdings plc ryaay s t  rkgdmy8teg                                              | $0.25 EPS Expected for Ryanair Holdings plc $RYAAY -                                                      |\n",
              "| 0 34 eps expected modine manufacturing mpany mod jetblue airways jblu sentiment 0 94 s t  oebd0yhbgy      | $0.34 EPS Expected for Modine Manufacturing Company $MOD; Jetblue Airways $JBLUs Sentiment Is 0.94        |\n",
              "\n"
            ],
            "text/plain": [
              "  text_processed                                                                                      \n",
              "1 0 19 left play americanairlines arena miami florida usa wizards 109 113 heat nba 2018 2019          \n",
              "2 0 2 emirates                                                                                        \n",
              "3 0 25 eps expected ryanair holdings plc ryaay loews l sentiment 0 95 s t  hxg2rvdxih                 \n",
              "4 0 25 eps expected ryanair holdings plc ryaay s t  jugrqdwopf                                        \n",
              "5 0 25 eps expected ryanair holdings plc ryaay s t  rkgdmy8teg                                        \n",
              "6 0 34 eps expected modine manufacturing mpany mod jetblue airways jblu sentiment 0 94 s t  oebd0yhbgy\n",
              "  text                                                                                                     \n",
              "1 0:19 left to play at AmericanAirlines Arena, Miami, Florida, USA: #Wizards 109-113 #Heat . #NBA 2018-2019\n",
              "2 0-2 at Emirates \\U0001f602\\U0001f602                                                                     \n",
              "3 $0.25 EPS Expected for Ryanair Holdings plc $RYAAY; Loews $L Sentiment Is 0.95                           \n",
              "4 $0.25 EPS Expected for Ryanair Holdings plc $RYAAY                                                       \n",
              "5 $0.25 EPS Expected for Ryanair Holdings plc $RYAAY -                                                     \n",
              "6 $0.34 EPS Expected for Modine Manufacturing Company $MOD; Jetblue Airways $JBLUs Sentiment Is 0.94       "
            ]
          },
          "metadata": {},
          "output_type": "display_data"
        }
      ]
    },
    {
      "execution_count": 41,
      "cell_type": "code",
      "metadata": {},
      "source": [
        "corp \u003c- Corpus(VectorSource(df$text_processed))\n",
        "du \u003c- analyzeSentiment(corp)\n",
        "\n",
        "\n",
        "\n",
        "\n"
      ],
      "outputs": [
        {
          "name": "stderr",
          "output_type": "stream",
          "text": [
            "Warning message in tm_map.SimpleCorpus(corpus, tm::PlainTextDocument):\n",
            "“transformation drops documents”Warning message in tm_map.SimpleCorpus(corpus, tm::content_transformer(tolower)):\n",
            "“transformation drops documents”Warning message in tm_map.SimpleCorpus(corpus, tm::removePunctuation):\n",
            "“transformation drops documents”Warning message in tm_map.SimpleCorpus(corpus, tm::removeNumbers):\n",
            "“transformation drops documents”Warning message in tm_map.SimpleCorpus(corpus, tm::removeWords, tm::stopwords(language)):\n",
            "“transformation drops documents”Warning message in tm_map.SimpleCorpus(corpus, tm::stemDocument, language \u003d language):\n",
            "“transformation drops documents”"
          ]
        },
        {
          "ename": "ERROR",
          "evalue": "Error: cannot allocate vector of size 45.6 Gb\n",
          "output_type": "error",
          "traceback": [
            "Error: cannot allocate vector of size 45.6 Gb\nTraceback:\n",
            "1. analyzeSentiment(corp)",
            "2. analyzeSentiment.Corpus(corp)",
            "3. analyzeSentiment(dtm, language, aggregate, rules, removeStopwords, \n .     stemming, ...)",
            "4. analyzeSentiment.DocumentTermMatrix(dtm, language, aggregate, \n .     rules, removeStopwords, stemming, ...)",
            "5. rule[[1]](x)",
            "6. rowSums(as.matrix(dtm))",
            "7. is.data.frame(x)",
            "8. as.matrix(dtm)",
            "9. as.matrix.simple_triplet_matrix(dtm)",
            "10. matrix(vector(typeof(x$v), prod(nr, nc)), nr, nc)"
          ]
        }
      ]
    },
    {
      "execution_count": 0,
      "cell_type": "code",
      "metadata": {},
      "source": [
        "du[du \u003d\u003d 0] \u003c- NA\n",
        "du \u003c- mutate(du, mean_sentiment \u003d rowMeans(select(du, starts_with(\"Sentiment\")), na.rm\u003dT))\n",
        "\n",
        "df$sentimentA_polarity \u003c- du$mean_sentiment"
      ],
      "outputs": []
    },
    {
      "execution_count": 43,
      "cell_type": "code",
      "metadata": {},
      "source": [
        "\n",
        "dg \u003c- df$text_processed[1:100]"
      ],
      "outputs": []
    },
    {
      "execution_count": 44,
      "cell_type": "code",
      "metadata": {
        "scrolled": true
      },
      "source": [
        "dg"
      ],
      "outputs": [
        {
          "data": {
            "text/html": [
              "\u003col class\u003dlist-inline\u003e\n",
              "\t\u003cli\u003eNA\u003c/li\u003e\n",
              "\t\u003cli\u003e\u00270 19 left play americanairlines arena miami florida usa wizards 109 113 heat nba 2018 2019\u0027\u003c/li\u003e\n",
              "\t\u003cli\u003e\u00270 2 emirates\u0027\u003c/li\u003e\n",
              "\t\u003cli\u003e\u00270 25 eps expected ryanair holdings plc ryaay\u0027\u003c/li\u003e\n",
              "\t\u003cli\u003e\u00270 25 eps expected ryanair holdings plc ryaay loews l sentiment 0 95\u0027\u003c/li\u003e\n",
              "\t\u003cli\u003e\u00270 34 eps expected modine manufacturing mpany mod jetblue airways jblu sentiment 0 94\u0027\u003c/li\u003e\n",
              "\t\u003cli\u003e\u00270 37 eps expected jetblue airways rporation jblu\u0027\u003c/li\u003e\n",
              "\t\u003cli\u003e\u00270 77 india v united arab emirates 16 00 10 01 teams sre yes 2 88 betfair sposbook 1 55\u0027\u003c/li\u003e\n",
              "\t\u003cli\u003e\u00270 min libbok gets vodam bulls underway vodam bulls 0 0 emirates lions bulvliowu\u0027\u003c/li\u003e\n",
              "\t\u003cli\u003e\u00270 respect emirates think skullduggery happening etihad allianz arena\u0027\u003c/li\u003e\n",
              "\t\u003cli\u003e\u002700 00 driving home emirates pockets\u0027\u003c/li\u003e\n",
              "\t\u003cli\u003e\u002700 edafe lmaoooooooo man chose santiago bernabeu fav stadium playing emirates regards club fans feelings\u0027\u003c/li\u003e\n",
              "\t\u003cli\u003e\u0027005e5n bullet manufactured highbury turned pellet emirates arsenal\u0027\u003c/li\u003e\n",
              "\t\u003cli\u003e\u0027007 bond 00 paws28186953 markfrank60 davidlammy ryanair paly nservatives mostly blame forc\u0027\u003c/li\u003e\n",
              "\t\u003cli\u003e\u0027007 bond 00 voidthatbinds paws28186953 markfrank60 davidlammy ryanair nservatives large areas unt\u0027\u003c/li\u003e\n",
              "\t\u003cli\u003e\u0027007aliyu used emirates practice moment\u0027\u003c/li\u003e\n",
              "\t\u003cli\u003e\u0027007kameel neotenyx hullboydan ryanair enurage racism\u0027\u003c/li\u003e\n",
              "\t\u003cli\u003e\u002700mesh lingard mes emirates gun leans something actually gnna lose\u0027\u003c/li\u003e\n",
              "\t\u003cli\u003e\u002700strangers00 qatarairways offer london valid take first flight 15 jan next week\u0027\u003c/li\u003e\n",
              "\t\u003cli\u003e\u002701 02 02 45 pm 0545 2nd t20i nepal tour united arab emirates dubai feb 1 2019 uaevsnepal uaevnep\u0027\u003c/li\u003e\n",
              "\t\u003cli\u003e\u002701 12 2018 fchtonline 1 3 afcwimbledon emirates fa cup away home picture\u0027\u003c/li\u003e\n",
              "\t\u003cli\u003e\u002701saf gilljames54 one wonders world oh people use ryanair\u0027\u003c/li\u003e\n",
              "\t\u003cli\u003e\u002701saf much dislike ryanair t believe fault greece work\u0027\u003c/li\u003e\n",
              "\t\u003cli\u003e\u002701saf ridiculous customer service ryanair 2 people serve 200 ryanair thessaloniki greece customerservice\u0027\u003c/li\u003e\n",
              "\t\u003cli\u003e\u0027025ebony nainaiwilliams ryanair charge made big show esing lady firs\u0027\u003c/li\u003e\n",
              "\t\u003cli\u003e\u0027029aero britishairways boeing787 climbing away london heathrow airpo ba boeing b787 avia\u0027\u003c/li\u003e\n",
              "\t\u003cli\u003e\u0027029aero easternairways embraer e170 london city airpo operating britishairways lcy erj170\u0027\u003c/li\u003e\n",
              "\t\u003cli\u003e\u002704 30 13 55 summerpalace beijinglayover tour fly auckland munich airchina ca784 amp lufthansa\u0027\u003c/li\u003e\n",
              "\t\u003cli\u003e\u002705 01 2019 ftfc 2 3 afcwimbledon emirates fa cup away home\u0027\u003c/li\u003e\n",
              "\t\u003cli\u003e\u002705 february 2019 07 01 pontifex uae day 2 catholic celebration popefrancis united arab emirates\u0027\u003c/li\u003e\n",
              "\t\u003cli\u003e\u002705 february 2019 14 06 relive pontifex visit uae popefrancis apostolic visit united arab emirates\u0027\u003c/li\u003e\n",
              "\t\u003cli\u003e\u002705012019 17 00cet unitedarabemirates vs bahrain livestream available 2 providers\u0027\u003c/li\u003e\n",
              "\t\u003cli\u003e\u00270504traveller us sta moxy jetblue ink deals 120 airbus a220s\u0027\u003c/li\u003e\n",
              "\t\u003cli\u003e\u002706 01 2019 eifzv ryanair ryanair es ryanairpilots ryanairespana b738 boeing ace aeropueo lanzarote\u0027\u003c/li\u003e\n",
              "\t\u003cli\u003e\u002706 01 2019 eigjp ryanair ryanair es ryanairpilots ryanairespana b738 boeing ace aeropueo lanzarote\u0027\u003c/li\u003e\n",
              "\t\u003cli\u003e\u002706 02 2019 eigsj ryanair ryanair es ryanairpilots ryanairespana b738 boeing ace aeropueo lanzarote\u0027\u003c/li\u003e\n",
              "\t\u003cli\u003e\u002706 02 2019 eigxi ryanair ryanair es ryanairpilots ryanairespana b738 boeing ace aeropueo lanzarote\u0027\u003c/li\u003e\n",
              "\t\u003cli\u003e\u002706 02 2019 lufthansa twilight sailing evening cancelled due extremely strong winds forecas\u0027\u003c/li\u003e\n",
              "\t\u003cli\u003e\u0027060644francejen itvnews ryanair apologies lady stress caused\u0027\u003c/li\u003e\n",
              "\t\u003cli\u003e\u0027063 may st george jetblue making nnections businesstravel travel\u0027\u003c/li\u003e\n",
              "\t\u003cli\u003e\u0027069arns lingard banned emirates guy respect never club\u0027\u003c/li\u003e\n",
              "\t\u003cli\u003e\u002707 feb 2019 dengue dhf update 03 asia japan ex united arab emirates rr via promed mail\u0027\u003c/li\u003e\n",
              "\t\u003cli\u003e\u002707nfg lingard just moon walk emirates\u0027\u003c/li\u003e\n",
              "\t\u003cli\u003e\u002708 01 2019 eigxi ryanair ryanair es ryanairpilots ryanairespana b738 boeing ace aeropueo lanzarote\u0027\u003c/li\u003e\n",
              "\t\u003cli\u003e\u002708 09 1 3 ucl 09 10 1 3 pl 17 18 1 3 pl 18 19 1 3 fac love unter attack emirates mufc\u0027\u003c/li\u003e\n",
              "\t\u003cli\u003e\u0027089968raph bbcspo anyone beat cardiff bournemouth t beaten top team wembley emirates\u0027\u003c/li\u003e\n",
              "\t\u003cli\u003e\u002709 01 2019 eigdm ryanair ryanair es ryanairpilots ryanairespana b738 boeing ace aeropueo lanzarote\u0027\u003c/li\u003e\n",
              "\t\u003cli\u003e\u002709 22 rlwc2021 one semi final emirates noh london\u0027\u003c/li\u003e\n",
              "\t\u003cli\u003e\u002709ea63 book flight somewhere fiver ryanair\u0027\u003c/li\u003e\n",
              "\t\u003cli\u003e\u00270bserver lufthansa koblerinpak uncle kobler please yaar\u0027\u003c/li\u003e\n",
              "\t\u003cli\u003e\u00270gbreadsticks jetblue beginning think luck\u0027\u003c/li\u003e\n",
              "\t\u003cli\u003e\u00270gbreadsticks jetblue got better minute good luck\u0027\u003c/li\u003e\n",
              "\t\u003cli\u003e\u00270gbreadsticks rosybud123 jetblue noooo just booked flight\u0027\u003c/li\u003e\n",
              "\t\u003cli\u003e\u00270gbreadsticks shocker delayed even now thanks sucking jetblue\u0027\u003c/li\u003e\n",
              "\t\u003cli\u003e\u00270gbreadsticks yuhyuhyuh jetblue worse luck hopefully u get home soon\u0027\u003c/li\u003e\n",
              "\t\u003cli\u003e\u00270gbreadsticks yuhyuhyuh rosybud123 jetblue like say just curse year bad flights literally\u0027\u003c/li\u003e\n",
              "\t\u003cli\u003e\u00270hmyst4rs watching ryanair racism sucks\u0027\u003c/li\u003e\n",
              "\t\u003cli\u003e\u00270mg ryanair cancelled\u0027\u003c/li\u003e\n",
              "\t\u003cli\u003e\u00270mrvaa yala al emirates good luck الامارات الهند\u0027\u003c/li\u003e\n",
              "\t\u003cli\u003e\u00270seikhuemen emirates cup official spurs\u0027\u003c/li\u003e\n",
              "\t\u003cli\u003e\u00270tt0man emplre richfiles1 turkishairlines ridleysttcg poor barbaric child t know better\u0027\u003c/li\u003e\n",
              "\t\u003cli\u003e\u00270uissal hi sorry innvenience may submit mplaint\u0027\u003c/li\u003e\n",
              "\t\u003cli\u003e\u00270vxrdose flights europe ryanair cheap 5 rn\u0027\u003c/li\u003e\n",
              "\t\u003cli\u003e\u00270zylv0lzubgtauu photos inside emirates bur ahmed prison aden detainees appear pictures overhear\u0027\u003c/li\u003e\n",
              "\t\u003cli\u003e\u00271 0 emirates tonight last night willmissthis leavingonajetplane\u0027\u003c/li\u003e\n",
              "\t\u003cli\u003e\u00271 0 emirates tonight willmissthis leavingonajetplane californiahereweme timzanni sharks\u0027\u003c/li\u003e\n",
              "\t\u003cli\u003e\u00271 0 loss united arab emirates 2019 asian cup graham arnold ffa difficult ro\u0027\u003c/li\u003e\n",
              "\t\u003cli\u003e\u00271 0 time added emirates result laurent koscielny injury earlier arsmun live\u0027\u003c/li\u003e\n",
              "\t\u003cli\u003e\u00271 0 united alexis sres return emirates silencing arsenal fans booing throughout\u0027\u003c/li\u003e\n",
              "\t\u003cli\u003e\u00271 00 finish emirates arsenal vs manutd buzzing yg emiratesfacup\u0027\u003c/li\u003e\n",
              "\t\u003cli\u003e\u00271 1 emirates really got skin explain much want us ruin tomorrow\u0027\u003c/li\u003e\n",
              "\t\u003cli\u003e\u00271 12 2019 americanairlines arena\u0027\u003c/li\u003e\n",
              "\t\u003cli\u003e\u00271 2 3 4 5 6 787 experience qatarairways boeing 787 dreamliner staing 28 october lagostogether\u0027\u003c/li\u003e\n",
              "\t\u003cli\u003e\u00271 2 airfrancefr airfrance airfranceklm going johannesburg airpo almost missing nnectio\u0027\u003c/li\u003e\n",
              "\t\u003cli\u003e\u00271 2 arsenal v cardiffcityfc 7 45pm emirates stadium arsenal three last pl matches\u0027\u003c/li\u003e\n",
              "\t\u003cli\u003e\u00271 2 emirates emiratessuppo early morning flight severe low back pain request better seat exit row mayb\u0027\u003c/li\u003e\n",
              "\t\u003cli\u003e\u00271 2 first two britishairways 747 400s delivered ceremony museum flight seat\u0027\u003c/li\u003e\n",
              "\t\u003cli\u003e\u00271 2 glad ryanair repoed racist guy police glad many people angry staff\u0027\u003c/li\u003e\n",
              "\t\u003cli\u003e\u00271 2 hey jetblue just want know impressed young man working gate 26 help\u0027\u003c/li\u003e\n",
              "\t\u003cli\u003e\u00271 2 thanks rulers people united arab emirates audacity nviction taking histor\u0027\u003c/li\u003e\n",
              "\t\u003cli\u003e\u00271 2 u military suppo saudi arabia united arab emirates bombed hospitals health clinics\u0027\u003c/li\u003e\n",
              "\t\u003cli\u003e\u00271 2 united hotel food reimbursement jetblue recently gave 100 credit ffee mint\u0027\u003c/li\u003e\n",
              "\t\u003cli\u003e\u00271 2uganda site astonishingly heroic rescue mission palestinian terrorists hijacked airfrance flight\u0027\u003c/li\u003e\n",
              "\t\u003cli\u003e\u00271 3 dark mufc strip lingard dance celebration emirates stadium third goal ming arsenal pull one back\u0027\u003c/li\u003e\n",
              "\t\u003cli\u003e\u00271 3 emirates againn\u0027\u003c/li\u003e\n",
              "\t\u003cli\u003e\u00271 3 emirates airline looking cabin crew females basic salary 1153 usd every flying hour will paid ap\u0027\u003c/li\u003e\n",
              "\t\u003cli\u003e\u00271 3 emirates bitches arsenal will remain bitches united mufc facup\u0027\u003c/li\u003e\n",
              "\t\u003cli\u003e\u00271 3 emirates lingard winding arsenal fans sanchez sring arsmun facup mufc\u0027\u003c/li\u003e\n",
              "\t\u003cli\u003e\u00271 3 lols exit emirates fa cup way t work us overall played well\u0027\u003c/li\u003e\n",
              "\t\u003cli\u003e\u00271 3 manutd favorite sreline emirates ggmu\u0027\u003c/li\u003e\n",
              "\t\u003cli\u003e\u00271 3 send time one year emirates hell\u0027\u003c/li\u003e\n",
              "\t\u003cli\u003e\u00271 3 standard ars mun sreline emirates world back normal\u0027\u003c/li\u003e\n",
              "\t\u003cli\u003e\u00271 30 finish emirates arsenal vs manutd buzzing yg\u0027\u003c/li\u003e\n",
              "\t\u003cli\u003e\u00271 300 roundtrip emirates first class fare kuala lumpur dubai\u0027\u003c/li\u003e\n",
              "\t\u003cli\u003e\u00271 300 roundtrip emirates first class fare kuala lumpur dubai adventure\u0027\u003c/li\u003e\n",
              "\t\u003cli\u003e\u00271 300 roundtrip emirates first class fare kuala lumpur dubai via onemileatatime\u0027\u003c/li\u003e\n",
              "\t\u003cli\u003e\u00271 300 roundtrip emirates first class fare kualalumpur dubai one mile time southeastasia\u0027\u003c/li\u003e\n",
              "\t\u003cli\u003e\u00271 30am jetblue replacement crew finally shows people clap smh clapping people showed u\u0027\u003c/li\u003e\n",
              "\t\u003cli\u003e\u00271 4 million views easily avoided ryanair epicfail pr\u0027\u003c/li\u003e\n",
              "\t\u003cli\u003e\u00271 4 travel turkishairlines beware nnecting likely overbooked\u0027\u003c/li\u003e\n",
              "\u003c/ol\u003e\n"
            ],
            "text/latex": [
              "\\begin{enumerate*}\n",
              "\\item NA\n",
              "\\item \u00270 19 left play americanairlines arena miami florida usa wizards 109 113 heat nba 2018 2019\u0027\n",
              "\\item \u00270 2 emirates\u0027\n",
              "\\item \u00270 25 eps expected ryanair holdings plc ryaay\u0027\n",
              "\\item \u00270 25 eps expected ryanair holdings plc ryaay loews l sentiment 0 95\u0027\n",
              "\\item \u00270 34 eps expected modine manufacturing mpany mod jetblue airways jblu sentiment 0 94\u0027\n",
              "\\item \u00270 37 eps expected jetblue airways rporation jblu\u0027\n",
              "\\item \u00270 77 india v united arab emirates 16 00 10 01 teams sre yes 2 88 betfair sposbook 1 55\u0027\n",
              "\\item \u00270 min libbok gets vodam bulls underway vodam bulls 0 0 emirates lions bulvliowu\u0027\n",
              "\\item \u00270 respect emirates think skullduggery happening etihad allianz arena\u0027\n",
              "\\item \u002700 00 driving home emirates pockets\u0027\n",
              "\\item \u002700 edafe lmaoooooooo man chose santiago bernabeu fav stadium playing emirates regards club fans feelings\u0027\n",
              "\\item \u0027005e5n bullet manufactured highbury turned pellet emirates arsenal\u0027\n",
              "\\item \u0027007 bond 00 paws28186953 markfrank60 davidlammy ryanair paly nservatives mostly blame forc\u0027\n",
              "\\item \u0027007 bond 00 voidthatbinds paws28186953 markfrank60 davidlammy ryanair nservatives large areas unt\u0027\n",
              "\\item \u0027007aliyu used emirates practice moment\u0027\n",
              "\\item \u0027007kameel neotenyx hullboydan ryanair enurage racism\u0027\n",
              "\\item \u002700mesh lingard mes emirates gun leans something actually gnna lose\u0027\n",
              "\\item \u002700strangers00 qatarairways offer london valid take first flight 15 jan next week\u0027\n",
              "\\item \u002701 02 02 45 pm 0545 2nd t20i nepal tour united arab emirates dubai feb 1 2019 uaevsnepal uaevnep\u0027\n",
              "\\item \u002701 12 2018 fchtonline 1 3 afcwimbledon emirates fa cup away home picture\u0027\n",
              "\\item \u002701saf gilljames54 one wonders world oh people use ryanair\u0027\n",
              "\\item \u002701saf much dislike ryanair t believe fault greece work\u0027\n",
              "\\item \u002701saf ridiculous customer service ryanair 2 people serve 200 ryanair thessaloniki greece customerservice\u0027\n",
              "\\item \u0027025ebony nainaiwilliams ryanair charge made big show esing lady firs\u0027\n",
              "\\item \u0027029aero britishairways boeing787 climbing away london heathrow airpo ba boeing b787 avia\u0027\n",
              "\\item \u0027029aero easternairways embraer e170 london city airpo operating britishairways lcy erj170\u0027\n",
              "\\item \u002704 30 13 55 summerpalace beijinglayover tour fly auckland munich airchina ca784 amp lufthansa\u0027\n",
              "\\item \u002705 01 2019 ftfc 2 3 afcwimbledon emirates fa cup away home\u0027\n",
              "\\item \u002705 february 2019 07 01 pontifex uae day 2 catholic celebration popefrancis united arab emirates\u0027\n",
              "\\item \u002705 february 2019 14 06 relive pontifex visit uae popefrancis apostolic visit united arab emirates\u0027\n",
              "\\item \u002705012019 17 00cet unitedarabemirates vs bahrain livestream available 2 providers\u0027\n",
              "\\item \u00270504traveller us sta moxy jetblue ink deals 120 airbus a220s\u0027\n",
              "\\item \u002706 01 2019 eifzv ryanair ryanair es ryanairpilots ryanairespana b738 boeing ace aeropueo lanzarote\u0027\n",
              "\\item \u002706 01 2019 eigjp ryanair ryanair es ryanairpilots ryanairespana b738 boeing ace aeropueo lanzarote\u0027\n",
              "\\item \u002706 02 2019 eigsj ryanair ryanair es ryanairpilots ryanairespana b738 boeing ace aeropueo lanzarote\u0027\n",
              "\\item \u002706 02 2019 eigxi ryanair ryanair es ryanairpilots ryanairespana b738 boeing ace aeropueo lanzarote\u0027\n",
              "\\item \u002706 02 2019 lufthansa twilight sailing evening cancelled due extremely strong winds forecas\u0027\n",
              "\\item \u0027060644francejen itvnews ryanair apologies lady stress caused\u0027\n",
              "\\item \u0027063 may st george jetblue making nnections businesstravel travel\u0027\n",
              "\\item \u0027069arns lingard banned emirates guy respect never club\u0027\n",
              "\\item \u002707 feb 2019 dengue dhf update 03 asia japan ex united arab emirates rr via promed mail\u0027\n",
              "\\item \u002707nfg lingard just moon walk emirates\u0027\n",
              "\\item \u002708 01 2019 eigxi ryanair ryanair es ryanairpilots ryanairespana b738 boeing ace aeropueo lanzarote\u0027\n",
              "\\item \u002708 09 1 3 ucl 09 10 1 3 pl 17 18 1 3 pl 18 19 1 3 fac love unter attack emirates mufc\u0027\n",
              "\\item \u0027089968raph bbcspo anyone beat cardiff bournemouth t beaten top team wembley emirates\u0027\n",
              "\\item \u002709 01 2019 eigdm ryanair ryanair es ryanairpilots ryanairespana b738 boeing ace aeropueo lanzarote\u0027\n",
              "\\item \u002709 22 rlwc2021 one semi final emirates noh london\u0027\n",
              "\\item \u002709ea63 book flight somewhere fiver ryanair\u0027\n",
              "\\item \u00270bserver lufthansa koblerinpak uncle kobler please yaar\u0027\n",
              "\\item \u00270gbreadsticks jetblue beginning think luck\u0027\n",
              "\\item \u00270gbreadsticks jetblue got better minute good luck\u0027\n",
              "\\item \u00270gbreadsticks rosybud123 jetblue noooo just booked flight\u0027\n",
              "\\item \u00270gbreadsticks shocker delayed even now thanks sucking jetblue\u0027\n",
              "\\item \u00270gbreadsticks yuhyuhyuh jetblue worse luck hopefully u get home soon\u0027\n",
              "\\item \u00270gbreadsticks yuhyuhyuh rosybud123 jetblue like say just curse year bad flights literally\u0027\n",
              "\\item \u00270hmyst4rs watching ryanair racism sucks\u0027\n",
              "\\item \u00270mg ryanair cancelled\u0027\n",
              "\\item \u00270mrvaa yala al emirates good luck الامارات الهند\u0027\n",
              "\\item \u00270seikhuemen emirates cup official spurs\u0027\n",
              "\\item \u00270tt0man emplre richfiles1 turkishairlines ridleysttcg poor barbaric child t know better\u0027\n",
              "\\item \u00270uissal hi sorry innvenience may submit mplaint\u0027\n",
              "\\item \u00270vxrdose flights europe ryanair cheap 5 rn\u0027\n",
              "\\item \u00270zylv0lzubgtauu photos inside emirates bur ahmed prison aden detainees appear pictures overhear\u0027\n",
              "\\item \u00271 0 emirates tonight last night willmissthis leavingonajetplane\u0027\n",
              "\\item \u00271 0 emirates tonight willmissthis leavingonajetplane californiahereweme timzanni sharks\u0027\n",
              "\\item \u00271 0 loss united arab emirates 2019 asian cup graham arnold ffa difficult ro\u0027\n",
              "\\item \u00271 0 time added emirates result laurent koscielny injury earlier arsmun live\u0027\n",
              "\\item \u00271 0 united alexis sres return emirates silencing arsenal fans booing throughout\u0027\n",
              "\\item \u00271 00 finish emirates arsenal vs manutd buzzing yg emiratesfacup\u0027\n",
              "\\item \u00271 1 emirates really got skin explain much want us ruin tomorrow\u0027\n",
              "\\item \u00271 12 2019 americanairlines arena\u0027\n",
              "\\item \u00271 2 3 4 5 6 787 experience qatarairways boeing 787 dreamliner staing 28 october lagostogether\u0027\n",
              "\\item \u00271 2 airfrancefr airfrance airfranceklm going johannesburg airpo almost missing nnectio\u0027\n",
              "\\item \u00271 2 arsenal v cardiffcityfc 7 45pm emirates stadium arsenal three last pl matches\u0027\n",
              "\\item \u00271 2 emirates emiratessuppo early morning flight severe low back pain request better seat exit row mayb\u0027\n",
              "\\item \u00271 2 first two britishairways 747 400s delivered ceremony museum flight seat\u0027\n",
              "\\item \u00271 2 glad ryanair repoed racist guy police glad many people angry staff\u0027\n",
              "\\item \u00271 2 hey jetblue just want know impressed young man working gate 26 help\u0027\n",
              "\\item \u00271 2 thanks rulers people united arab emirates audacity nviction taking histor\u0027\n",
              "\\item \u00271 2 u military suppo saudi arabia united arab emirates bombed hospitals health clinics\u0027\n",
              "\\item \u00271 2 united hotel food reimbursement jetblue recently gave 100 credit ffee mint\u0027\n",
              "\\item \u00271 2uganda site astonishingly heroic rescue mission palestinian terrorists hijacked airfrance flight\u0027\n",
              "\\item \u00271 3 dark mufc strip lingard dance celebration emirates stadium third goal ming arsenal pull one back\u0027\n",
              "\\item \u00271 3 emirates againn\u0027\n",
              "\\item \u00271 3 emirates airline looking cabin crew females basic salary 1153 usd every flying hour will paid ap\u0027\n",
              "\\item \u00271 3 emirates bitches arsenal will remain bitches united mufc facup\u0027\n",
              "\\item \u00271 3 emirates lingard winding arsenal fans sanchez sring arsmun facup mufc\u0027\n",
              "\\item \u00271 3 lols exit emirates fa cup way t work us overall played well\u0027\n",
              "\\item \u00271 3 manutd favorite sreline emirates ggmu\u0027\n",
              "\\item \u00271 3 send time one year emirates hell\u0027\n",
              "\\item \u00271 3 standard ars mun sreline emirates world back normal\u0027\n",
              "\\item \u00271 30 finish emirates arsenal vs manutd buzzing yg\u0027\n",
              "\\item \u00271 300 roundtrip emirates first class fare kuala lumpur dubai\u0027\n",
              "\\item \u00271 300 roundtrip emirates first class fare kuala lumpur dubai adventure\u0027\n",
              "\\item \u00271 300 roundtrip emirates first class fare kuala lumpur dubai via onemileatatime\u0027\n",
              "\\item \u00271 300 roundtrip emirates first class fare kualalumpur dubai one mile time southeastasia\u0027\n",
              "\\item \u00271 30am jetblue replacement crew finally shows people clap smh clapping people showed u\u0027\n",
              "\\item \u00271 4 million views easily avoided ryanair epicfail pr\u0027\n",
              "\\item \u00271 4 travel turkishairlines beware nnecting likely overbooked\u0027\n",
              "\\end{enumerate*}\n"
            ],
            "text/markdown": [
              "1. NA\n",
              "2. \u00270 19 left play americanairlines arena miami florida usa wizards 109 113 heat nba 2018 2019\u0027\n",
              "3. \u00270 2 emirates\u0027\n",
              "4. \u00270 25 eps expected ryanair holdings plc ryaay\u0027\n",
              "5. \u00270 25 eps expected ryanair holdings plc ryaay loews l sentiment 0 95\u0027\n",
              "6. \u00270 34 eps expected modine manufacturing mpany mod jetblue airways jblu sentiment 0 94\u0027\n",
              "7. \u00270 37 eps expected jetblue airways rporation jblu\u0027\n",
              "8. \u00270 77 india v united arab emirates 16 00 10 01 teams sre yes 2 88 betfair sposbook 1 55\u0027\n",
              "9. \u00270 min libbok gets vodam bulls underway vodam bulls 0 0 emirates lions bulvliowu\u0027\n",
              "10. \u00270 respect emirates think skullduggery happening etihad allianz arena\u0027\n",
              "11. \u002700 00 driving home emirates pockets\u0027\n",
              "12. \u002700 edafe lmaoooooooo man chose santiago bernabeu fav stadium playing emirates regards club fans feelings\u0027\n",
              "13. \u0027005e5n bullet manufactured highbury turned pellet emirates arsenal\u0027\n",
              "14. \u0027007 bond 00 paws28186953 markfrank60 davidlammy ryanair paly nservatives mostly blame forc\u0027\n",
              "15. \u0027007 bond 00 voidthatbinds paws28186953 markfrank60 davidlammy ryanair nservatives large areas unt\u0027\n",
              "16. \u0027007aliyu used emirates practice moment\u0027\n",
              "17. \u0027007kameel neotenyx hullboydan ryanair enurage racism\u0027\n",
              "18. \u002700mesh lingard mes emirates gun leans something actually gnna lose\u0027\n",
              "19. \u002700strangers00 qatarairways offer london valid take first flight 15 jan next week\u0027\n",
              "20. \u002701 02 02 45 pm 0545 2nd t20i nepal tour united arab emirates dubai feb 1 2019 uaevsnepal uaevnep\u0027\n",
              "21. \u002701 12 2018 fchtonline 1 3 afcwimbledon emirates fa cup away home picture\u0027\n",
              "22. \u002701saf gilljames54 one wonders world oh people use ryanair\u0027\n",
              "23. \u002701saf much dislike ryanair t believe fault greece work\u0027\n",
              "24. \u002701saf ridiculous customer service ryanair 2 people serve 200 ryanair thessaloniki greece customerservice\u0027\n",
              "25. \u0027025ebony nainaiwilliams ryanair charge made big show esing lady firs\u0027\n",
              "26. \u0027029aero britishairways boeing787 climbing away london heathrow airpo ba boeing b787 avia\u0027\n",
              "27. \u0027029aero easternairways embraer e170 london city airpo operating britishairways lcy erj170\u0027\n",
              "28. \u002704 30 13 55 summerpalace beijinglayover tour fly auckland munich airchina ca784 amp lufthansa\u0027\n",
              "29. \u002705 01 2019 ftfc 2 3 afcwimbledon emirates fa cup away home\u0027\n",
              "30. \u002705 february 2019 07 01 pontifex uae day 2 catholic celebration popefrancis united arab emirates\u0027\n",
              "31. \u002705 february 2019 14 06 relive pontifex visit uae popefrancis apostolic visit united arab emirates\u0027\n",
              "32. \u002705012019 17 00cet unitedarabemirates vs bahrain livestream available 2 providers\u0027\n",
              "33. \u00270504traveller us sta moxy jetblue ink deals 120 airbus a220s\u0027\n",
              "34. \u002706 01 2019 eifzv ryanair ryanair es ryanairpilots ryanairespana b738 boeing ace aeropueo lanzarote\u0027\n",
              "35. \u002706 01 2019 eigjp ryanair ryanair es ryanairpilots ryanairespana b738 boeing ace aeropueo lanzarote\u0027\n",
              "36. \u002706 02 2019 eigsj ryanair ryanair es ryanairpilots ryanairespana b738 boeing ace aeropueo lanzarote\u0027\n",
              "37. \u002706 02 2019 eigxi ryanair ryanair es ryanairpilots ryanairespana b738 boeing ace aeropueo lanzarote\u0027\n",
              "38. \u002706 02 2019 lufthansa twilight sailing evening cancelled due extremely strong winds forecas\u0027\n",
              "39. \u0027060644francejen itvnews ryanair apologies lady stress caused\u0027\n",
              "40. \u0027063 may st george jetblue making nnections businesstravel travel\u0027\n",
              "41. \u0027069arns lingard banned emirates guy respect never club\u0027\n",
              "42. \u002707 feb 2019 dengue dhf update 03 asia japan ex united arab emirates rr via promed mail\u0027\n",
              "43. \u002707nfg lingard just moon walk emirates\u0027\n",
              "44. \u002708 01 2019 eigxi ryanair ryanair es ryanairpilots ryanairespana b738 boeing ace aeropueo lanzarote\u0027\n",
              "45. \u002708 09 1 3 ucl 09 10 1 3 pl 17 18 1 3 pl 18 19 1 3 fac love unter attack emirates mufc\u0027\n",
              "46. \u0027089968raph bbcspo anyone beat cardiff bournemouth t beaten top team wembley emirates\u0027\n",
              "47. \u002709 01 2019 eigdm ryanair ryanair es ryanairpilots ryanairespana b738 boeing ace aeropueo lanzarote\u0027\n",
              "48. \u002709 22 rlwc2021 one semi final emirates noh london\u0027\n",
              "49. \u002709ea63 book flight somewhere fiver ryanair\u0027\n",
              "50. \u00270bserver lufthansa koblerinpak uncle kobler please yaar\u0027\n",
              "51. \u00270gbreadsticks jetblue beginning think luck\u0027\n",
              "52. \u00270gbreadsticks jetblue got better minute good luck\u0027\n",
              "53. \u00270gbreadsticks rosybud123 jetblue noooo just booked flight\u0027\n",
              "54. \u00270gbreadsticks shocker delayed even now thanks sucking jetblue\u0027\n",
              "55. \u00270gbreadsticks yuhyuhyuh jetblue worse luck hopefully u get home soon\u0027\n",
              "56. \u00270gbreadsticks yuhyuhyuh rosybud123 jetblue like say just curse year bad flights literally\u0027\n",
              "57. \u00270hmyst4rs watching ryanair racism sucks\u0027\n",
              "58. \u00270mg ryanair cancelled\u0027\n",
              "59. \u00270mrvaa yala al emirates good luck الامارات الهند\u0027\n",
              "60. \u00270seikhuemen emirates cup official spurs\u0027\n",
              "61. \u00270tt0man emplre richfiles1 turkishairlines ridleysttcg poor barbaric child t know better\u0027\n",
              "62. \u00270uissal hi sorry innvenience may submit mplaint\u0027\n",
              "63. \u00270vxrdose flights europe ryanair cheap 5 rn\u0027\n",
              "64. \u00270zylv0lzubgtauu photos inside emirates bur ahmed prison aden detainees appear pictures overhear\u0027\n",
              "65. \u00271 0 emirates tonight last night willmissthis leavingonajetplane\u0027\n",
              "66. \u00271 0 emirates tonight willmissthis leavingonajetplane californiahereweme timzanni sharks\u0027\n",
              "67. \u00271 0 loss united arab emirates 2019 asian cup graham arnold ffa difficult ro\u0027\n",
              "68. \u00271 0 time added emirates result laurent koscielny injury earlier arsmun live\u0027\n",
              "69. \u00271 0 united alexis sres return emirates silencing arsenal fans booing throughout\u0027\n",
              "70. \u00271 00 finish emirates arsenal vs manutd buzzing yg emiratesfacup\u0027\n",
              "71. \u00271 1 emirates really got skin explain much want us ruin tomorrow\u0027\n",
              "72. \u00271 12 2019 americanairlines arena\u0027\n",
              "73. \u00271 2 3 4 5 6 787 experience qatarairways boeing 787 dreamliner staing 28 october lagostogether\u0027\n",
              "74. \u00271 2 airfrancefr airfrance airfranceklm going johannesburg airpo almost missing nnectio\u0027\n",
              "75. \u00271 2 arsenal v cardiffcityfc 7 45pm emirates stadium arsenal three last pl matches\u0027\n",
              "76. \u00271 2 emirates emiratessuppo early morning flight severe low back pain request better seat exit row mayb\u0027\n",
              "77. \u00271 2 first two britishairways 747 400s delivered ceremony museum flight seat\u0027\n",
              "78. \u00271 2 glad ryanair repoed racist guy police glad many people angry staff\u0027\n",
              "79. \u00271 2 hey jetblue just want know impressed young man working gate 26 help\u0027\n",
              "80. \u00271 2 thanks rulers people united arab emirates audacity nviction taking histor\u0027\n",
              "81. \u00271 2 u military suppo saudi arabia united arab emirates bombed hospitals health clinics\u0027\n",
              "82. \u00271 2 united hotel food reimbursement jetblue recently gave 100 credit ffee mint\u0027\n",
              "83. \u00271 2uganda site astonishingly heroic rescue mission palestinian terrorists hijacked airfrance flight\u0027\n",
              "84. \u00271 3 dark mufc strip lingard dance celebration emirates stadium third goal ming arsenal pull one back\u0027\n",
              "85. \u00271 3 emirates againn\u0027\n",
              "86. \u00271 3 emirates airline looking cabin crew females basic salary 1153 usd every flying hour will paid ap\u0027\n",
              "87. \u00271 3 emirates bitches arsenal will remain bitches united mufc facup\u0027\n",
              "88. \u00271 3 emirates lingard winding arsenal fans sanchez sring arsmun facup mufc\u0027\n",
              "89. \u00271 3 lols exit emirates fa cup way t work us overall played well\u0027\n",
              "90. \u00271 3 manutd favorite sreline emirates ggmu\u0027\n",
              "91. \u00271 3 send time one year emirates hell\u0027\n",
              "92. \u00271 3 standard ars mun sreline emirates world back normal\u0027\n",
              "93. \u00271 30 finish emirates arsenal vs manutd buzzing yg\u0027\n",
              "94. \u00271 300 roundtrip emirates first class fare kuala lumpur dubai\u0027\n",
              "95. \u00271 300 roundtrip emirates first class fare kuala lumpur dubai adventure\u0027\n",
              "96. \u00271 300 roundtrip emirates first class fare kuala lumpur dubai via onemileatatime\u0027\n",
              "97. \u00271 300 roundtrip emirates first class fare kualalumpur dubai one mile time southeastasia\u0027\n",
              "98. \u00271 30am jetblue replacement crew finally shows people clap smh clapping people showed u\u0027\n",
              "99. \u00271 4 million views easily avoided ryanair epicfail pr\u0027\n",
              "100. \u00271 4 travel turkishairlines beware nnecting likely overbooked\u0027\n",
              "\n",
              "\n"
            ],
            "text/plain": [
              "  [1] NA                                                                                                        \n",
              "  [2] \"0 19 left play americanairlines arena miami florida usa wizards 109 113 heat nba 2018 2019\"              \n",
              "  [3] \"0 2 emirates\"                                                                                            \n",
              "  [4] \"0 25 eps expected ryanair holdings plc ryaay\"                                                            \n",
              "  [5] \"0 25 eps expected ryanair holdings plc ryaay loews l sentiment 0 95\"                                     \n",
              "  [6] \"0 34 eps expected modine manufacturing mpany mod jetblue airways jblu sentiment 0 94\"                    \n",
              "  [7] \"0 37 eps expected jetblue airways rporation jblu\"                                                        \n",
              "  [8] \"0 77 india v united arab emirates 16 00 10 01 teams sre yes 2 88 betfair sposbook 1 55\"                  \n",
              "  [9] \"0 min libbok gets vodam bulls underway vodam bulls 0 0 emirates lions bulvliowu\"                         \n",
              " [10] \"0 respect emirates think skullduggery happening etihad allianz arena\"                                    \n",
              " [11] \"00 00 driving home emirates pockets\"                                                                     \n",
              " [12] \"00 edafe lmaoooooooo man chose santiago bernabeu fav stadium playing emirates regards club fans feelings\"\n",
              " [13] \"005e5n bullet manufactured highbury turned pellet emirates arsenal\"                                      \n",
              " [14] \"007 bond 00 paws28186953 markfrank60 davidlammy ryanair paly nservatives mostly blame forc\"              \n",
              " [15] \"007 bond 00 voidthatbinds paws28186953 markfrank60 davidlammy ryanair nservatives large areas unt\"       \n",
              " [16] \"007aliyu used emirates practice moment\"                                                                  \n",
              " [17] \"007kameel neotenyx hullboydan ryanair enurage racism\"                                                    \n",
              " [18] \"00mesh lingard mes emirates gun leans something actually gnna lose\"                                      \n",
              " [19] \"00strangers00 qatarairways offer london valid take first flight 15 jan next week\"                        \n",
              " [20] \"01 02 02 45 pm 0545 2nd t20i nepal tour united arab emirates dubai feb 1 2019 uaevsnepal uaevnep\"        \n",
              " [21] \"01 12 2018 fchtonline 1 3 afcwimbledon emirates fa cup away home picture\"                                \n",
              " [22] \"01saf gilljames54 one wonders world oh people use ryanair\"                                               \n",
              " [23] \"01saf much dislike ryanair t believe fault greece work\"                                                  \n",
              " [24] \"01saf ridiculous customer service ryanair 2 people serve 200 ryanair thessaloniki greece customerservice\"\n",
              " [25] \"025ebony nainaiwilliams ryanair charge made big show esing lady firs\"                                    \n",
              " [26] \"029aero britishairways boeing787 climbing away london heathrow airpo ba boeing b787 avia\"                \n",
              " [27] \"029aero easternairways embraer e170 london city airpo operating britishairways lcy erj170\"               \n",
              " [28] \"04 30 13 55 summerpalace beijinglayover tour fly auckland munich airchina ca784 amp lufthansa\"           \n",
              " [29] \"05 01 2019 ftfc 2 3 afcwimbledon emirates fa cup away home\"                                              \n",
              " [30] \"05 february 2019 07 01 pontifex uae day 2 catholic celebration popefrancis united arab emirates\"         \n",
              " [31] \"05 february 2019 14 06 relive pontifex visit uae popefrancis apostolic visit united arab emirates\"       \n",
              " [32] \"05012019 17 00cet unitedarabemirates vs bahrain livestream available 2 providers\"                        \n",
              " [33] \"0504traveller us sta moxy jetblue ink deals 120 airbus a220s\"                                            \n",
              " [34] \"06 01 2019 eifzv ryanair ryanair es ryanairpilots ryanairespana b738 boeing ace aeropueo lanzarote\"      \n",
              " [35] \"06 01 2019 eigjp ryanair ryanair es ryanairpilots ryanairespana b738 boeing ace aeropueo lanzarote\"      \n",
              " [36] \"06 02 2019 eigsj ryanair ryanair es ryanairpilots ryanairespana b738 boeing ace aeropueo lanzarote\"      \n",
              " [37] \"06 02 2019 eigxi ryanair ryanair es ryanairpilots ryanairespana b738 boeing ace aeropueo lanzarote\"      \n",
              " [38] \"06 02 2019 lufthansa twilight sailing evening cancelled due extremely strong winds forecas\"              \n",
              " [39] \"060644francejen itvnews ryanair apologies lady stress caused\"                                            \n",
              " [40] \"063 may st george jetblue making nnections businesstravel travel\"                                        \n",
              " [41] \"069arns lingard banned emirates guy respect never club\"                                                  \n",
              " [42] \"07 feb 2019 dengue dhf update 03 asia japan ex united arab emirates rr via promed mail\"                  \n",
              " [43] \"07nfg lingard just moon walk emirates\"                                                                   \n",
              " [44] \"08 01 2019 eigxi ryanair ryanair es ryanairpilots ryanairespana b738 boeing ace aeropueo lanzarote\"      \n",
              " [45] \"08 09 1 3 ucl 09 10 1 3 pl 17 18 1 3 pl 18 19 1 3 fac love unter attack emirates mufc\"                   \n",
              " [46] \"089968raph bbcspo anyone beat cardiff bournemouth t beaten top team wembley emirates\"                    \n",
              " [47] \"09 01 2019 eigdm ryanair ryanair es ryanairpilots ryanairespana b738 boeing ace aeropueo lanzarote\"      \n",
              " [48] \"09 22 rlwc2021 one semi final emirates noh london\"                                                       \n",
              " [49] \"09ea63 book flight somewhere fiver ryanair\"                                                              \n",
              " [50] \"0bserver lufthansa koblerinpak uncle kobler please yaar\"                                                 \n",
              " [51] \"0gbreadsticks jetblue beginning think luck\"                                                              \n",
              " [52] \"0gbreadsticks jetblue got better minute good luck\"                                                       \n",
              " [53] \"0gbreadsticks rosybud123 jetblue noooo just booked flight\"                                               \n",
              " [54] \"0gbreadsticks shocker delayed even now thanks sucking jetblue\"                                           \n",
              " [55] \"0gbreadsticks yuhyuhyuh jetblue worse luck hopefully u get home soon\"                                    \n",
              " [56] \"0gbreadsticks yuhyuhyuh rosybud123 jetblue like say just curse year bad flights literally\"               \n",
              " [57] \"0hmyst4rs watching ryanair racism sucks\"                                                                 \n",
              " [58] \"0mg ryanair cancelled\"                                                                                   \n",
              " [59] \"0mrvaa yala al emirates good luck الامارات الهند\"                                                        \n",
              " [60] \"0seikhuemen emirates cup official spurs\"                                                                 \n",
              " [61] \"0tt0man emplre richfiles1 turkishairlines ridleysttcg poor barbaric child t know better\"                 \n",
              " [62] \"0uissal hi sorry innvenience may submit mplaint\"                                                         \n",
              " [63] \"0vxrdose flights europe ryanair cheap 5 rn\"                                                              \n",
              " [64] \"0zylv0lzubgtauu photos inside emirates bur ahmed prison aden detainees appear pictures overhear\"         \n",
              " [65] \"1 0 emirates tonight last night willmissthis leavingonajetplane\"                                         \n",
              " [66] \"1 0 emirates tonight willmissthis leavingonajetplane californiahereweme timzanni sharks\"                 \n",
              " [67] \"1 0 loss united arab emirates 2019 asian cup graham arnold ffa difficult ro\"                             \n",
              " [68] \"1 0 time added emirates result laurent koscielny injury earlier arsmun live\"                             \n",
              " [69] \"1 0 united alexis sres return emirates silencing arsenal fans booing throughout\"                         \n",
              " [70] \"1 00 finish emirates arsenal vs manutd buzzing yg emiratesfacup\"                                         \n",
              " [71] \"1 1 emirates really got skin explain much want us ruin tomorrow\"                                         \n",
              " [72] \"1 12 2019 americanairlines arena\"                                                                        \n",
              " [73] \"1 2 3 4 5 6 787 experience qatarairways boeing 787 dreamliner staing 28 october lagostogether\"           \n",
              " [74] \"1 2 airfrancefr airfrance airfranceklm going johannesburg airpo almost missing nnectio\"                  \n",
              " [75] \"1 2 arsenal v cardiffcityfc 7 45pm emirates stadium arsenal three last pl matches\"                       \n",
              " [76] \"1 2 emirates emiratessuppo early morning flight severe low back pain request better seat exit row mayb\"  \n",
              " [77] \"1 2 first two britishairways 747 400s delivered ceremony museum flight seat\"                             \n",
              " [78] \"1 2 glad ryanair repoed racist guy police glad many people angry staff\"                                  \n",
              " [79] \"1 2 hey jetblue just want know impressed young man working gate 26 help\"                                 \n",
              " [80] \"1 2 thanks rulers people united arab emirates audacity nviction taking histor\"                           \n",
              " [81] \"1 2 u military suppo saudi arabia united arab emirates bombed hospitals health clinics\"                  \n",
              " [82] \"1 2 united hotel food reimbursement jetblue recently gave 100 credit ffee mint\"                          \n",
              " [83] \"1 2uganda site astonishingly heroic rescue mission palestinian terrorists hijacked airfrance flight\"     \n",
              " [84] \"1 3 dark mufc strip lingard dance celebration emirates stadium third goal ming arsenal pull one back\"    \n",
              " [85] \"1 3 emirates againn\"                                                                                     \n",
              " [86] \"1 3 emirates airline looking cabin crew females basic salary 1153 usd every flying hour will paid ap\"    \n",
              " [87] \"1 3 emirates bitches arsenal will remain bitches united mufc facup\"                                      \n",
              " [88] \"1 3 emirates lingard winding arsenal fans sanchez sring arsmun facup mufc\"                               \n",
              " [89] \"1 3 lols exit emirates fa cup way t work us overall played well\"                                         \n",
              " [90] \"1 3 manutd favorite sreline emirates ggmu\"                                                               \n",
              " [91] \"1 3 send time one year emirates hell\"                                                                    \n",
              " [92] \"1 3 standard ars mun sreline emirates world back normal\"                                                 \n",
              " [93] \"1 30 finish emirates arsenal vs manutd buzzing yg\"                                                       \n",
              " [94] \"1 300 roundtrip emirates first class fare kuala lumpur dubai\"                                            \n",
              " [95] \"1 300 roundtrip emirates first class fare kuala lumpur dubai adventure\"                                  \n",
              " [96] \"1 300 roundtrip emirates first class fare kuala lumpur dubai via onemileatatime\"                         \n",
              " [97] \"1 300 roundtrip emirates first class fare kualalumpur dubai one mile time southeastasia\"                 \n",
              " [98] \"1 30am jetblue replacement crew finally shows people clap smh clapping people showed u\"                  \n",
              " [99] \"1 4 million views easily avoided ryanair epicfail pr\"                                                    \n",
              "[100] \"1 4 travel turkishairlines beware nnecting likely overbooked\"                                            "
            ]
          },
          "metadata": {},
          "output_type": "display_data"
        }
      ]
    },
    {
      "execution_count": 45,
      "cell_type": "code",
      "metadata": {},
      "source": [
        "dg[dg \u003d\u003d 0] \u003c- NA\n",
        "dc \u003d analyzeSentiment(dg)"
      ],
      "outputs": []
    },
    {
      "execution_count": 51,
      "cell_type": "code",
      "metadata": {},
      "source": [
        "dc[dc \u003d\u003d 0] \u003c- NA\n",
        "du \u003c- mutate(dc, mean_sentiment \u003d rowMeans(select(dc, starts_with(\"Sentiment\")), na.rm\u003dT))\n",
        "sentiment \u003c- du$mean_sentiment\n",
        "df \u003c- cbind(df, sentiment)\n",
        "summary(df)"
      ],
      "outputs": [
        {
          "data": {
            "text/plain": [
              " text_processed         text             sentiment         sentiment    \n",
              " Length:100000      Length:100000      Min.   :-2.5760   Min.   :-0.50  \n",
              " Class :character   Class :character   1st Qu.:-0.1250   1st Qu.:-0.14  \n",
              " Mode  :character   Mode  :character   Median : 0.0000   Median : 0.03  \n",
              "                                       Mean   : 0.0224   Mean   : 0.02  \n",
              "                                       3rd Qu.: 0.2121   3rd Qu.: 0.14  \n",
              "                                       Max.   : 2.7468   Max.   : 0.50  \n",
              "                                                         NA\u0027s   :32000  \n",
              "   sentiment       sentiment    \n",
              " Min.   :-0.50   Min.   :-0.50  \n",
              " 1st Qu.:-0.14   1st Qu.:-0.14  \n",
              " Median : 0.03   Median : 0.03  \n",
              " Mean   : 0.02   Mean   : 0.02  \n",
              " 3rd Qu.: 0.14   3rd Qu.: 0.14  \n",
              " Max.   : 0.50   Max.   : 0.50  \n",
              " NA\u0027s   :32000   NA\u0027s   :32000  "
            ]
          },
          "metadata": {},
          "output_type": "display_data"
        }
      ]
    },
    {
      "execution_count": 27,
      "cell_type": "code",
      "metadata": {},
      "source": [
        "library(sentimentr)\n",
        "dim(df)"
      ],
      "outputs": [
        {
          "data": {
            "text/html": [
              "\u003col class\u003dlist-inline\u003e\n",
              "\t\u003cli\u003e100000\u003c/li\u003e\n",
              "\t\u003cli\u003e2\u003c/li\u003e\n",
              "\u003c/ol\u003e\n"
            ],
            "text/latex": [
              "\\begin{enumerate*}\n",
              "\\item 100000\n",
              "\\item 2\n",
              "\\end{enumerate*}\n"
            ],
            "text/markdown": [
              "1. 100000\n",
              "2. 2\n",
              "\n",
              "\n"
            ],
            "text/plain": [
              "[1] 100000      2"
            ]
          },
          "metadata": {},
          "output_type": "display_data"
        }
      ]
    },
    {
      "execution_count": 28,
      "cell_type": "code",
      "metadata": {},
      "source": [
        "dg \u003c- get_sentences(df$text_processed)\n",
        "df$sentiment \u003c- sentiment(dg)$sentiment\n"
      ],
      "outputs": []
    },
    {
      "execution_count": 30,
      "cell_type": "code",
      "metadata": {},
      "source": [
        "summary(df)"
      ],
      "outputs": [
        {
          "data": {
            "text/plain": [
              " text_processed         text             sentiment      \n",
              " Length:100000      Length:100000      Min.   :-2.5760  \n",
              " Class :character   Class :character   1st Qu.:-0.1250  \n",
              " Mode  :character   Mode  :character   Median : 0.0000  \n",
              "                                       Mean   : 0.0224  \n",
              "                                       3rd Qu.: 0.2121  \n",
              "                                       Max.   : 2.7468  "
            ]
          },
          "metadata": {},
          "output_type": "display_data"
        }
      ]
    },
    {
      "execution_count": 36,
      "cell_type": "code",
      "metadata": {},
      "source": [
        "dg \u003c- df[1:100000,]\n",
        "corpus \u003c- get_sentences(dg$text_processed)\n",
        "dg$sentiment \u003c- sentiment(corpus)$sentiment\n",
        "summary(dg)"
      ],
      "outputs": [
        {
          "data": {
            "text/plain": [
              " text_processed         text             sentiment      \n",
              " Length:100000      Length:100000      Min.   :-2.5760  \n",
              " Class :character   Class :character   1st Qu.:-0.1250  \n",
              " Mode  :character   Mode  :character   Median : 0.0000  \n",
              "                                       Mean   : 0.0224  \n",
              "                                       3rd Qu.: 0.2121  \n",
              "                                       Max.   : 2.7468  "
            ]
          },
          "metadata": {},
          "output_type": "display_data"
        }
      ]
    },
    {
      "execution_count": 37,
      "cell_type": "code",
      "metadata": {},
      "source": [
        "dg \u003c- df[1:100000,]\n",
        "corpus \u003c- get_sentences(dg$text_processed)\n",
        "sentiment \u003c- sentiment(corpus)\n",
        "dg \u003c- cbind(dg, sentiment$sentiment)\n",
        "summary(dg)"
      ],
      "outputs": [
        {
          "data": {
            "text/plain": [
              " text_processed         text             sentiment       sentiment$sentiment\n",
              " Length:100000      Length:100000      Min.   :-2.5760   Min.   :-2.5760    \n",
              " Class :character   Class :character   1st Qu.:-0.1250   1st Qu.:-0.1250    \n",
              " Mode  :character   Mode  :character   Median : 0.0000   Median : 0.0000    \n",
              "                                       Mean   : 0.0224   Mean   : 0.0224    \n",
              "                                       3rd Qu.: 0.2121   3rd Qu.: 0.2121    \n",
              "                                       Max.   : 2.7468   Max.   : 2.7468    "
            ]
          },
          "metadata": {},
          "output_type": "display_data"
        }
      ]
    },
    {
      "execution_count": 0,
      "cell_type": "code",
      "metadata": {},
      "source": [],
      "outputs": []
    }
  ]
}