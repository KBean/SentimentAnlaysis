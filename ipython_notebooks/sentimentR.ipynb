{
  "metadata": {
    "kernelspec": {
      "display_name": "R (env r_shiny)",
      "name": "r-dku-venv-r_shiny",
      "language": "R"
    },
    "language_info": {
      "mimetype": "text/x-r-source",
      "version": "3.6.2",
      "name": "R",
      "pygments_lexer": "r",
      "file_extension": ".r",
      "codemirror_mode": "r"
    },
    "creator": "vdestoecklin",
    "associatedRecipe": "compute_airlines_scored_sentimentR",
    "createdOn": 1620185516153,
    "tags": [
      "recipe-editor"
    ],
    "customFields": {},
    "modifiedBy": "admin"
  },
  "nbformat": 4,
  "nbformat_minor": 1,
  "cells": [
    {
      "execution_count": 1,
      "cell_type": "code",
      "metadata": {},
      "source": [
        "library(dataiku)\n#library(sentimentr)\nlibrary(SentimentAnalysis)\nlibrary(dplyr)\nlibrary(tm)\n"
      ],
      "outputs": [
        {
          "output_type": "error",
          "evalue": "Error in library(SentimentAnalysis): there is no package called ‘SentimentAnalysis’\n",
          "traceback": [
            "Error in library(SentimentAnalysis): there is no package called ‘SentimentAnalysis’\nTraceback:\n",
            "1. library(SentimentAnalysis)"
          ],
          "ename": "ERROR"
        }
      ]
    },
    {
      "execution_count": 0,
      "cell_type": "code",
      "metadata": {},
      "source": [
        "\n# Recipe inputs\ndf \u003c- dkuReadDataset(\"airline_tweets_unique\", samplingMethod\u003d\"head\", nbRows\u003d100000)\n\n\n#Score with sentimentR\n#df$sentimentR_polarity \u003c- sentiment(df$text)$sentiment\n\n#df \u003c- cbind(df, sentiment[,4])\n\n\n#Score with sentimentAnalyzer and take the mean\n\n"
      ],
      "outputs": []
    },
    {
      "execution_count": 2,
      "cell_type": "code",
      "metadata": {},
      "source": [
        "head(df)"
      ],
      "outputs": [
        {
          "output_type": "display_data",
          "data": {
            "text/plain": "                                              \n1 function (x, df1, df2, ncp, log \u003d FALSE)    \n2 {                                           \n3     if (missing(ncp))                       \n4         .Call(C_df, x, df1, df2, log)       \n5     else .Call(C_dnf, x, df1, df2, ncp, log)\n6 }                                           "
          },
          "metadata": {}
        }
      ]
    },
    {
      "execution_count": 3,
      "cell_type": "code",
      "metadata": {},
      "source": [
        "corp \u003c- Corpus(VectorSource(df$text_processed))\ndu \u003c- analyzeSentiment(corp)\n\n\n\n\n"
      ],
      "outputs": [
        {
          "output_type": "error",
          "evalue": "Error in Corpus(VectorSource(df$text_processed)): could not find function \"Corpus\"\n",
          "traceback": [
            "Error in Corpus(VectorSource(df$text_processed)): could not find function \"Corpus\"\nTraceback:\n"
          ],
          "ename": "ERROR"
        }
      ]
    },
    {
      "execution_count": 4,
      "cell_type": "code",
      "metadata": {},
      "source": [
        "du[du \u003d\u003d 0] \u003c- NA\ndu \u003c- mutate(du, mean_sentiment \u003d rowMeans(select(du, starts_with(\"Sentiment\")), na.rm\u003dT))\n\ndf$sentimentA_polarity \u003c- du$mean_sentiment"
      ],
      "outputs": [
        {
          "output_type": "error",
          "evalue": "Error in du[du \u003d\u003d 0] \u003c- NA: object \u0027du\u0027 not found\n",
          "traceback": [
            "Error in du[du \u003d\u003d 0] \u003c- NA: object \u0027du\u0027 not found\nTraceback:\n"
          ],
          "ename": "ERROR"
        }
      ]
    },
    {
      "execution_count": 5,
      "cell_type": "code",
      "metadata": {},
      "source": [
        "\ndg \u003c- df$text_processed[1:100]"
      ],
      "outputs": [
        {
          "output_type": "error",
          "evalue": "Error in df$text_processed: object of type \u0027closure\u0027 is not subsettable\n",
          "traceback": [
            "Error in df$text_processed: object of type \u0027closure\u0027 is not subsettable\nTraceback:\n"
          ],
          "ename": "ERROR"
        }
      ]
    },
    {
      "execution_count": 6,
      "cell_type": "code",
      "metadata": {
        "scrolled": true
      },
      "source": [
        "dg"
      ],
      "outputs": [
        {
          "output_type": "error",
          "evalue": "Error in eval(expr, envir, enclos): object \u0027dg\u0027 not found\n",
          "traceback": [
            "Error in eval(expr, envir, enclos): object \u0027dg\u0027 not found\nTraceback:\n"
          ],
          "ename": "ERROR"
        }
      ]
    },
    {
      "execution_count": 45,
      "cell_type": "code",
      "metadata": {},
      "source": [
        "dg[dg \u003d\u003d 0] \u003c- NA\ndc \u003d analyzeSentiment(dg)"
      ],
      "outputs": []
    },
    {
      "execution_count": 51,
      "cell_type": "code",
      "metadata": {},
      "source": [
        "dc[dc \u003d\u003d 0] \u003c- NA\ndu \u003c- mutate(dc, mean_sentiment \u003d rowMeans(select(dc, starts_with(\"Sentiment\")), na.rm\u003dT))\nsentiment \u003c- du$mean_sentiment\ndf \u003c- cbind(df, sentiment)\nsummary(df)"
      ],
      "outputs": [
        {
          "output_type": "display_data",
          "data": {
            "text/plain": " text_processed         text             sentiment         sentiment    \n Length:100000      Length:100000      Min.   :-2.5760   Min.   :-0.50  \n Class :character   Class :character   1st Qu.:-0.1250   1st Qu.:-0.14  \n Mode  :character   Mode  :character   Median : 0.0000   Median : 0.03  \n                                       Mean   : 0.0224   Mean   : 0.02  \n                                       3rd Qu.: 0.2121   3rd Qu.: 0.14  \n                                       Max.   : 2.7468   Max.   : 0.50  \n                                                         NA\u0027s   :32000  \n   sentiment       sentiment    \n Min.   :-0.50   Min.   :-0.50  \n 1st Qu.:-0.14   1st Qu.:-0.14  \n Median : 0.03   Median : 0.03  \n Mean   : 0.02   Mean   : 0.02  \n 3rd Qu.: 0.14   3rd Qu.: 0.14  \n Max.   : 0.50   Max.   : 0.50  \n NA\u0027s   :32000   NA\u0027s   :32000  "
          },
          "metadata": {}
        }
      ]
    },
    {
      "execution_count": 27,
      "cell_type": "code",
      "metadata": {},
      "source": [
        "library(sentimentr)\ndim(df)"
      ],
      "outputs": [
        {
          "output_type": "display_data",
          "data": {
            "text/latex": "\\begin{enumerate*}\n\\item 100000\n\\item 2\n\\end{enumerate*}\n",
            "text/html": "\u003col class\u003dlist-inline\u003e\n\t\u003cli\u003e100000\u003c/li\u003e\n\t\u003cli\u003e2\u003c/li\u003e\n\u003c/ol\u003e\n",
            "text/markdown": "1. 100000\n2. 2\n\n\n",
            "text/plain": "[1] 100000      2"
          },
          "metadata": {}
        }
      ]
    },
    {
      "execution_count": 28,
      "cell_type": "code",
      "metadata": {},
      "source": [
        "dg \u003c- get_sentences(df$text_processed)\ndf$sentiment \u003c- sentiment(dg)$sentiment\n"
      ],
      "outputs": []
    },
    {
      "execution_count": 30,
      "cell_type": "code",
      "metadata": {},
      "source": [
        "summary(df)"
      ],
      "outputs": [
        {
          "output_type": "display_data",
          "data": {
            "text/plain": " text_processed         text             sentiment      \n Length:100000      Length:100000      Min.   :-2.5760  \n Class :character   Class :character   1st Qu.:-0.1250  \n Mode  :character   Mode  :character   Median : 0.0000  \n                                       Mean   : 0.0224  \n                                       3rd Qu.: 0.2121  \n                                       Max.   : 2.7468  "
          },
          "metadata": {}
        }
      ]
    },
    {
      "execution_count": 36,
      "cell_type": "code",
      "metadata": {},
      "source": [
        "dg \u003c- df[1:100000,]\ncorpus \u003c- get_sentences(dg$text_processed)\ndg$sentiment \u003c- sentiment(corpus)$sentiment\nsummary(dg)"
      ],
      "outputs": [
        {
          "output_type": "display_data",
          "data": {
            "text/plain": " text_processed         text             sentiment      \n Length:100000      Length:100000      Min.   :-2.5760  \n Class :character   Class :character   1st Qu.:-0.1250  \n Mode  :character   Mode  :character   Median : 0.0000  \n                                       Mean   : 0.0224  \n                                       3rd Qu.: 0.2121  \n                                       Max.   : 2.7468  "
          },
          "metadata": {}
        }
      ]
    },
    {
      "execution_count": 37,
      "cell_type": "code",
      "metadata": {},
      "source": [
        "dg \u003c- df[1:100000,]\ncorpus \u003c- get_sentences(dg$text_processed)\nsentiment \u003c- sentiment(corpus)\ndg \u003c- cbind(dg, sentiment$sentiment)\nsummary(dg)"
      ],
      "outputs": [
        {
          "output_type": "display_data",
          "data": {
            "text/plain": " text_processed         text             sentiment       sentiment$sentiment\n Length:100000      Length:100000      Min.   :-2.5760   Min.   :-2.5760    \n Class :character   Class :character   1st Qu.:-0.1250   1st Qu.:-0.1250    \n Mode  :character   Mode  :character   Median : 0.0000   Median : 0.0000    \n                                       Mean   : 0.0224   Mean   : 0.0224    \n                                       3rd Qu.: 0.2121   3rd Qu.: 0.2121    \n                                       Max.   : 2.7468   Max.   : 2.7468    "
          },
          "metadata": {}
        }
      ]
    },
    {
      "execution_count": 0,
      "cell_type": "code",
      "metadata": {},
      "source": [
        ""
      ],
      "outputs": []
    }
  ]
}