{
  "nbformat": 4,
  "nbformat_minor": 0,
  "metadata": {
    "kernelspec": {
      "display_name": "R",
      "language": "R",
      "name": "ir"
    },
    "associatedRecipe": "compute_sentiment",
    "creator": "admin",
    "createdOn": 1620185415369,
    "tags": [
      "recipe-editor"
    ],
    "customFields": {}
  },
  "cells": [
    {
      "cell_type": "code",
      "metadata": {},
      "outputs": [],
      "execution_count": 0,
      "source": [
        "library(dataiku)\n",
        "\n",
        "# Recipe inputs\n",
        "airline_tweets_unique \u003c- dkuReadDataset(\"airline_tweets_unique\", samplingMethod\u003d\"head\", nbRows\u003d100000)\n",
        "\n",
        "# Compute recipe outputs from inputs\n",
        "# TODO: Replace this part by your actual code that computes the output, as a R dataframe or data table\n",
        "sentiment \u003c- airline_tweets_unique # For this sample code, simply copy input to output\n",
        "\n",
        "\n",
        "# Recipe outputs\n",
        "dkuWriteDataset(sentiment,\"sentiment\")"
      ]
    }
  ]
}