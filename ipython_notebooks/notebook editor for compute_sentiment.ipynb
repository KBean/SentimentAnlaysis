{
  "metadata": {
    "kernelspec": {
      "display_name": "R",
      "name": "ir",
      "language": "R"
    },
    "language_info": {
      "mimetype": "text/x-r-source",
      "version": "3.6.2",
      "name": "R",
      "pygments_lexer": "r",
      "file_extension": ".r",
      "codemirror_mode": "r"
    },
    "creator": "admin",
    "associatedRecipe": "compute_sentiment",
    "createdOn": 1620181802754,
    "tags": [
      "recipe-editor"
    ],
    "customFields": {},
    "modifiedBy": "admin"
  },
  "nbformat": 4,
  "nbformat_minor": 1,
  "cells": [
    {
      "execution_count": 0,
      "cell_type": "code",
      "metadata": {},
      "source": [
        "library(dataiku)\n\n# Recipe inputs\nairline_tweets_unique \u003c- dkuReadDataset(\"airline_tweets_unique\", samplingMethod\u003d\"head\", nbRows\u003d100000)\n\n# Compute recipe outputs from inputs\n# TODO: Replace this part by your actual code that computes the output, as a R dataframe or data table\nsentiment \u003c- airline_tweets_unique # For this sample code, simply copy input to output\n\n\n# Recipe outputs\ndkuWriteDataset(sentiment,\"sentiment\")"
      ],
      "outputs": []
    }
  ]
}